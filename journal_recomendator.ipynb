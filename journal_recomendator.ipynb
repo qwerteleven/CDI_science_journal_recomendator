{
 "cells": [
  {
   "cell_type": "code",
   "execution_count": 255,
   "metadata": {},
   "outputs": [],
   "source": [
    "import numpy as np\n",
    "import pandas as pd"
   ]
  },
  {
   "cell_type": "code",
   "execution_count": 256,
   "metadata": {},
   "outputs": [],
   "source": [
    "def read_parse_data():\n",
    "    data = pd.read_csv('dataset/features.csv', header=None, sep='¡')\n",
    "    return data"
   ]
  },
  {
   "cell_type": "code",
   "execution_count": 257,
   "metadata": {},
   "outputs": [],
   "source": [
    "from sklearn.linear_model import SGDClassifier\n",
    "from sklearn.pipeline import Pipeline\n",
    "from sklearn.feature_extraction.text import TfidfTransformer\n",
    "from sklearn.feature_extraction.text import CountVectorizer\n",
    "\n",
    "def journal_clasificator_SVM(X_train, X_test, y_train, y_test):\n",
    "    text_clf = Pipeline([\n",
    "        ('vect', CountVectorizer()),\n",
    "        ('tfidf', TfidfTransformer()),\n",
    "        ('clf', SGDClassifier(loss='hinge', penalty='l2',\n",
    "                            alpha=1e-3, random_state=42,\n",
    "                            max_iter=5, tol=None)),\n",
    "    ])\n",
    "\n",
    "    text_clf.fit(X_train, y_train)\n",
    "    predicted = text_clf.predict(X_test)\n",
    "    print('mean prediction SVM: ', np.mean(predicted == y_test))\n",
    "\n",
    "    print_metrics(predicted, y_test, ['0', '1', '2', '3'])\n",
    "\n"
   ]
  },
  {
   "cell_type": "code",
   "execution_count": 258,
   "metadata": {},
   "outputs": [],
   "source": [
    "\n",
    "from sklearn.neural_network import MLPClassifier\n",
    "\n",
    "\n",
    "def journal_clasificator_MLPClassifier(X_train, X_test, y_train, y_test):\n",
    "    text_clf = Pipeline([\n",
    "        ('vect', CountVectorizer()),\n",
    "        ('tfidf', TfidfTransformer()),\n",
    "        ('clf', MLPClassifier(alpha=1, max_iter=1000)),\n",
    "    ])\n",
    "\n",
    "    text_clf.fit(X_train, y_train)\n",
    "    predicted = text_clf.predict(X_test)\n",
    "    print('mean prediction MLPClassifier: ', np.mean(predicted == y_test))"
   ]
  },
  {
   "cell_type": "code",
   "execution_count": 259,
   "metadata": {},
   "outputs": [],
   "source": [
    "\n",
    "from sklearn.neighbors import KNeighborsClassifier\n",
    "\n",
    "\n",
    "def journal_clasificator_KNeighborsClassifier(X_train, X_test, y_train, y_test):\n",
    "    text_clf = Pipeline([\n",
    "        ('vect', CountVectorizer()),\n",
    "        ('tfidf', TfidfTransformer()),\n",
    "        ('clf', KNeighborsClassifier(3)),\n",
    "    ])\n",
    "\n",
    "    text_clf.fit(X_train, y_train)\n",
    "    predicted = text_clf.predict(X_test)\n",
    "    print('mean prediction KNeighborsClassifier: ', np.mean(predicted == y_test))\n"
   ]
  },
  {
   "cell_type": "code",
   "execution_count": 260,
   "metadata": {},
   "outputs": [],
   "source": [
    "from sklearn.svm import SVC\n",
    "    \n",
    "def journal_clasificator_SVC(X_train, X_test, y_train, y_test):\n",
    "    text_clf = Pipeline([\n",
    "        ('vect', CountVectorizer()),\n",
    "        ('tfidf', TfidfTransformer()),\n",
    "        ('clf', SVC(gamma=2, C=1)),\n",
    "    ])\n",
    "\n",
    "    text_clf.fit(X_train, y_train)\n",
    "    predicted = text_clf.predict(X_test)\n",
    "    print('mean prediction SVC: ', np.mean(predicted == y_test))"
   ]
  },
  {
   "cell_type": "code",
   "execution_count": 261,
   "metadata": {},
   "outputs": [],
   "source": [
    "\n",
    "from sklearn.gaussian_process import GaussianProcessClassifier\n",
    "from sklearn.gaussian_process.kernels import RBF\n",
    "\n",
    "\n",
    "def journal_clasificator_GaussianProcessClassifier(X_train, X_test, y_train, y_test):\n",
    "    text_clf = Pipeline([\n",
    "        ('vect', CountVectorizer()),\n",
    "        ('tfidf', TfidfTransformer()),\n",
    "        ('clf', GaussianProcessClassifier(1.0 * RBF(1.0))),\n",
    "    ])\n",
    "\n",
    "    text_clf.fit(X_train, y_train)\n",
    "    predicted = text_clf.predict(X_test)\n",
    "    print('mean prediction GaussianProcessClassifier: ', np.mean(predicted == y_test))"
   ]
  },
  {
   "cell_type": "code",
   "execution_count": 262,
   "metadata": {},
   "outputs": [],
   "source": [
    "\n",
    "from sklearn.tree import DecisionTreeClassifier\n",
    "\n",
    "\n",
    "def journal_clasificator_DecisionTreeClassifier(X_train, X_test, y_train, y_test):\n",
    "    text_clf = Pipeline([\n",
    "        ('vect', CountVectorizer()),\n",
    "        ('tfidf', TfidfTransformer()),\n",
    "        ('clf', DecisionTreeClassifier(max_depth=5)),\n",
    "    ])\n",
    "\n",
    "    text_clf.fit(X_train, y_train)\n",
    "    predicted = text_clf.predict(X_test)\n",
    "    print('mean prediction DecisionTreeClassifier: ', np.mean(predicted == y_test))"
   ]
  },
  {
   "cell_type": "code",
   "execution_count": 263,
   "metadata": {},
   "outputs": [],
   "source": [
    "\n",
    "from sklearn.ensemble import RandomForestClassifier, AdaBoostClassifier\n",
    "\n",
    "\n",
    "def journal_clasificator_RandomForestClassifier(X_train, X_test, y_train, y_test):\n",
    "    text_clf = Pipeline([\n",
    "        ('vect', CountVectorizer()),\n",
    "        ('tfidf', TfidfTransformer()),\n",
    "        ('clf', RandomForestClassifier(max_depth=5, n_estimators=10, max_features=1)),\n",
    "    ])\n",
    "\n",
    "    text_clf.fit(X_train, y_train)\n",
    "    predicted = text_clf.predict(X_test)\n",
    "    print('mean prediction RandomForestClassifier: ', np.mean(predicted == y_test))\n",
    "\n",
    "def journal_clasificator_AdaBoostClassifier(X_train, X_test, y_train, y_test):\n",
    "    text_clf = Pipeline([\n",
    "        ('vect', CountVectorizer()),\n",
    "        ('tfidf', TfidfTransformer()),\n",
    "        ('clf', AdaBoostClassifier()),\n",
    "    ])\n",
    "\n",
    "    text_clf.fit(X_train, y_train)\n",
    "    predicted = text_clf.predict(X_test)\n",
    "    print('mean prediction AdaBoostClassifier: ', np.mean(predicted == y_test))\n",
    "\n"
   ]
  },
  {
   "cell_type": "code",
   "execution_count": 264,
   "metadata": {},
   "outputs": [],
   "source": [
    "\n",
    "from sklearn.naive_bayes import GaussianNB\n",
    "\n",
    "def journal_clasificator_GaussianNB(X_train, X_test, y_train, y_test):\n",
    "    text_clf = Pipeline([\n",
    "        ('vect', CountVectorizer()),\n",
    "        ('tfidf', TfidfTransformer()),\n",
    "        ('clf', GaussianNB()),\n",
    "    ])\n",
    "\n",
    "    text_clf.fit(X_train, y_train)\n",
    "    predicted = text_clf.predict(X_test)\n",
    "    print('mean prediction GaussianNB: ', np.mean(predicted == y_test))"
   ]
  },
  {
   "cell_type": "code",
   "execution_count": 265,
   "metadata": {},
   "outputs": [],
   "source": [
    "\n",
    "from sklearn.discriminant_analysis import QuadraticDiscriminantAnalysis\n",
    "\n",
    "def journal_clasificator_QuadraticDiscriminantAnalysis(X_train, X_test, y_train, y_test):\n",
    "    text_clf = Pipeline([\n",
    "        ('vect', CountVectorizer()),\n",
    "        ('tfidf', TfidfTransformer()),\n",
    "        ('clf', QuadraticDiscriminantAnalysis()),\n",
    "    ])\n",
    "\n",
    "    text_clf.fit(np.array(X_train), np.array(y_train))\n",
    "    predicted = text_clf.predict(X_test)\n",
    "    print('mean prediction QuadraticDiscriminantAnalysis: ', np.mean(predicted == y_test))"
   ]
  },
  {
   "cell_type": "code",
   "execution_count": 266,
   "metadata": {},
   "outputs": [],
   "source": [
    "from sklearn.naive_bayes import MultinomialNB\n",
    "\n",
    "def journal_clasificator_NB(X_train, X_test, y_train, y_test):\n",
    "\n",
    "    text_clf = Pipeline([\n",
    "        ('vect', CountVectorizer()),\n",
    "        ('tfidf', TfidfTransformer()),\n",
    "        ('clf', MultinomialNB()),\n",
    "    ])\n",
    "\n",
    "    text_clf.fit(X_train, y_train)\n",
    "    predicted = text_clf.predict(X_test)\n",
    "    print('mean prediction naive bayes: ', np.mean(predicted == y_test))\n",
    "\n",
    "    \n",
    "    print_metrics(predicted, y_test, ['0', '1', '2', '3'])\n"
   ]
  },
  {
   "cell_type": "code",
   "execution_count": 267,
   "metadata": {},
   "outputs": [],
   "source": [
    "from sklearn import metrics\n",
    "\n",
    "def print_metrics(predicted, test_target, test_target_names):\n",
    "    print(metrics.classification_report(test_target, predicted, target_names=test_target_names))"
   ]
  },
  {
   "cell_type": "code",
   "execution_count": 268,
   "metadata": {},
   "outputs": [],
   "source": [
    "def balanced_subsample(x,y,subsample_size=1.0):\n",
    "\n",
    "    class_xs = []\n",
    "    min_elems = None\n",
    "\n",
    "    for yi in np.unique(y):\n",
    "        elems = x[(y == yi)]\n",
    "        class_xs.append((yi, elems))\n",
    "        if min_elems == None or elems.shape[0] < min_elems:\n",
    "            min_elems = elems.shape[0]\n",
    "\n",
    "    use_elems = min_elems\n",
    "    if subsample_size < 1:\n",
    "        use_elems = int(min_elems*subsample_size)\n",
    "\n",
    "    xs = []\n",
    "    ys = []\n",
    "\n",
    "    for ci,this_xs in class_xs:\n",
    "        if len(this_xs) > use_elems:\n",
    "            np.random.shuffle(this_xs)\n",
    "\n",
    "        x_ = this_xs[:use_elems]\n",
    "        y_ = np.empty(use_elems)\n",
    "        y_.fill(ci)\n",
    "\n",
    "        xs.append(x_)\n",
    "        ys.append(y_)\n",
    "\n",
    "    xs = np.concatenate(xs)\n",
    "    ys = np.concatenate(ys)\n",
    "\n",
    "    return xs,ys"
   ]
  },
  {
   "cell_type": "code",
   "execution_count": 269,
   "metadata": {},
   "outputs": [
    {
     "name": "stderr",
     "output_type": "stream",
     "text": [
      "C:\\Users\\admin\\AppData\\Roaming\\Python\\Python37\\site-packages\\ipykernel_launcher.py:2: ParserWarning: Falling back to the 'python' engine because the separator encoded in utf-8 is > 1 char long, and the 'c' engine does not support such separators; you can avoid this warning by specifying engine='python'.\n",
      "  \n"
     ]
    },
    {
     "data": {
      "text/plain": [
       "1    100\n",
       "3     40\n",
       "0      8\n",
       "2      5\n",
       "Name: 0, dtype: int64"
      ]
     },
     "execution_count": 269,
     "metadata": {},
     "output_type": "execute_result"
    }
   ],
   "source": [
    "data = read_parse_data()\n",
    "\n",
    "data.iloc[:, 0].value_counts()"
   ]
  },
  {
   "cell_type": "code",
   "execution_count": 270,
   "metadata": {},
   "outputs": [],
   "source": [
    "from sklearn.utils import resample\n",
    "\n",
    "def get_balance_data(data, n_samples):\n",
    "\n",
    "    df_majority = data[data.iloc[:, 1] == 1]\n",
    "\n",
    "    df_minority_0 = data[data.iloc[:, 1] == 0]\n",
    "    df_minority_2 = data[data.iloc[:, 1] == 2]\n",
    "    df_minority_3 = data[data.iloc[:, 1] == 3]\n",
    "\n",
    "    # Upsample minority class\n",
    "    df_minority_upsampled_0 = resample(df_minority_0, replace = True, n_samples = n_samples, random_state = 42) # reproducible results\n",
    "    df_minority_upsampled_2 = resample(df_minority_2, replace = True, n_samples = n_samples, random_state = 42) # reproducible results\n",
    "    df_minority_upsampled_3 = resample(df_minority_3, replace = True, n_samples = n_samples, random_state = 42) # reproducible results\n",
    "\n",
    "    # Combine majority class with upsampled minority class\n",
    "    df_upsampled = pd.concat([df_majority, df_minority_upsampled_0, df_minority_upsampled_2,df_minority_upsampled_3])\n",
    "\n",
    "    return df_upsampled"
   ]
  },
  {
   "cell_type": "code",
   "execution_count": 271,
   "metadata": {},
   "outputs": [],
   "source": [
    "from sklearn.model_selection import train_test_split\n",
    "from yellowbrick.target import class_balance\n",
    "\n",
    "\n",
    "def main():\n",
    "\n",
    "    data = read_parse_data()\n",
    "\n",
    "    target = data.iloc[:, 0]\n",
    "    text = data.iloc[:, 1]\n",
    "\n",
    "    X_train, X_test, y_train, y_test = train_test_split(text, target, stratify=target, test_size=0.33, random_state=42) \n",
    "\n",
    "    train = pd.concat([X_train, y_train], axis = 1)\n",
    "\n",
    "    train = get_balance_data(train, 65)\n",
    "\n",
    "    X_train = train.iloc[:, 0]\n",
    "    y_train = train.iloc[:, 1]\n",
    "\n",
    "\n",
    "    test = pd.concat([X_test, y_test], axis = 1)\n",
    "\n",
    "    test = get_balance_data(test, 35)\n",
    "\n",
    "    X_test = test.iloc[:, 0]\n",
    "    y_test = test.iloc[:, 1]\n",
    "\n",
    "\n",
    "    viz = class_balance(y_train, y_test)\n",
    "    viz.fit(y_train, y_test)\n",
    "    viz.show()\n",
    "\n",
    "    journal_clasificator_NB(X_train, X_test, y_train, y_test)\n",
    "    \n",
    "    journal_clasificator_SVM(X_train, X_test, y_train, y_test)\n",
    "\n",
    "    journal_clasificator_SVC(X_train, X_test, y_train, y_test)\n",
    "\n",
    "    journal_clasificator_AdaBoostClassifier(X_train, X_test, y_train, y_test)\n",
    "\n",
    "    journal_clasificator_RandomForestClassifier(X_train, X_test, y_train, y_test)\n",
    "\n",
    "    journal_clasificator_DecisionTreeClassifier(X_train, X_test, y_train, y_test)\n",
    "\n",
    "    journal_clasificator_KNeighborsClassifier(X_train, X_test, y_train, y_test)\n",
    "\n",
    "    journal_clasificator_MLPClassifier(X_train, X_test, y_train, y_test)\n",
    "    \n",
    "    \n",
    "    print(\"done\")\n"
   ]
  },
  {
   "cell_type": "code",
   "execution_count": 272,
   "metadata": {},
   "outputs": [
    {
     "name": "stderr",
     "output_type": "stream",
     "text": [
      "C:\\Users\\admin\\AppData\\Roaming\\Python\\Python37\\site-packages\\ipykernel_launcher.py:2: ParserWarning: Falling back to the 'python' engine because the separator encoded in utf-8 is > 1 char long, and the 'c' engine does not support such separators; you can avoid this warning by specifying engine='python'.\n",
      "  \n"
     ]
    },
    {
     "data": {
      "image/png": "[encoded data removed]",
      "text/plain": [
       "<Figure size 576x396 with 1 Axes>"
      ]
     },
     "metadata": {},
     "output_type": "display_data"
    },
    {
     "name": "stdout",
     "output_type": "stream",
     "text": [
      "mean prediction naive bayes:  0.8043478260869565\n",
      "              precision    recall  f1-score   support\n",
      "\n",
      "           0       1.00      1.00      1.00        35\n",
      "           1       1.00      0.94      0.97        33\n",
      "           2       0.73      0.46      0.56        35\n",
      "           3       0.58      0.83      0.68        35\n",
      "\n",
      "    accuracy                           0.80       138\n",
      "   macro avg       0.83      0.81      0.80       138\n",
      "weighted avg       0.82      0.80      0.80       138\n",
      "\n",
      "mean prediction SVM:  0.5869565217391305\n",
      "              precision    recall  f1-score   support\n",
      "\n",
      "           0       1.00      0.40      0.57        35\n",
      "           1       0.54      0.97      0.70        33\n",
      "           2       0.00      0.00      0.00        35\n",
      "           3       0.54      1.00      0.70        35\n",
      "\n",
      "    accuracy                           0.59       138\n",
      "   macro avg       0.52      0.59      0.49       138\n",
      "weighted avg       0.52      0.59      0.49       138\n",
      "\n"
     ]
    },
    {
     "name": "stderr",
     "output_type": "stream",
     "text": [
      "D:\\python37\\lib\\site-packages\\sklearn\\metrics\\_classification.py:1248: UndefinedMetricWarning: Precision and F-score are ill-defined and being set to 0.0 in labels with no predicted samples. Use `zero_division` parameter to control this behavior.\n",
      "  _warn_prf(average, modifier, msg_start, len(result))\n",
      "D:\\python37\\lib\\site-packages\\sklearn\\metrics\\_classification.py:1248: UndefinedMetricWarning: Precision and F-score are ill-defined and being set to 0.0 in labels with no predicted samples. Use `zero_division` parameter to control this behavior.\n",
      "  _warn_prf(average, modifier, msg_start, len(result))\n",
      "D:\\python37\\lib\\site-packages\\sklearn\\metrics\\_classification.py:1248: UndefinedMetricWarning: Precision and F-score are ill-defined and being set to 0.0 in labels with no predicted samples. Use `zero_division` parameter to control this behavior.\n",
      "  _warn_prf(average, modifier, msg_start, len(result))\n"
     ]
    },
    {
     "name": "stdout",
     "output_type": "stream",
     "text": [
      "mean prediction SVC:  0.2391304347826087\n",
      "mean prediction AdaBoostClassifier:  0.3333333333333333\n",
      "mean prediction RandomForestClassifier:  0.2391304347826087\n",
      "mean prediction DecisionTreeClassifier:  0.39855072463768115\n",
      "mean prediction KNeighborsClassifier:  0.7391304347826086\n",
      "mean prediction MLPClassifier:  0.4492753623188406\n",
      "done\n"
     ]
    }
   ],
   "source": [
    "\n",
    "\n",
    "if __name__ == '__main__':\n",
    "    main()"
   ]
  }
 ],
 "metadata": {
  "interpreter": {
   "hash": "23e384c7449f98722cda181c66bc10041f5874c27c5707fa49ddda4f9be885fe"
  },
  "kernelspec": {
   "display_name": "Python 3.7.9 64-bit",
   "language": "python",
   "name": "python3"
  },
  "language_info": {
   "codemirror_mode": {
    "name": "ipython",
    "version": 3
   },
   "file_extension": ".py",
   "mimetype": "text/x-python",
   "name": "python",
   "nbconvert_exporter": "python",
   "pygments_lexer": "ipython3",
   "version": "3.7.9"
  },
  "orig_nbformat": 4
 },
 "nbformat": 4,
 "nbformat_minor": 2
}
