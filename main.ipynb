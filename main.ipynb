{
 "cells": [
  {
   "cell_type": "code",
   "execution_count": 1,
   "metadata": {},
   "outputs": [],
   "source": [
    "import sklearn\n",
    "import numpy as np\n",
    "import tensorflow as tf\n",
    "import pandas as pd\n",
    "import seaborn as sb"
   ]
  },
  {
   "cell_type": "code",
   "execution_count": 10,
   "metadata": {},
   "outputs": [],
   "source": [
    "def read_parse_data():\n",
    "    data = pd.read_csv('dataset/features.csv', header=None, sep='¡')\n",
    "    return data"
   ]
  },
  {
   "cell_type": "code",
   "execution_count": 3,
   "metadata": {},
   "outputs": [],
   "source": [
    "\n",
    "\n",
    "def main():\n",
    "    data = read_parse_data()\n",
    "    print(data.head())\n",
    "    print(\"done\")\n"
   ]
  },
  {
   "cell_type": "code",
   "execution_count": 12,
   "metadata": {},
   "outputs": [
    {
     "name": "stderr",
     "output_type": "stream",
     "text": [
      "C:\\Users\\admin\\AppData\\Roaming\\Python\\Python37\\site-packages\\ipykernel_launcher.py:2: ParserWarning: Falling back to the 'python' engine because the separator encoded in utf-8 is > 1 char long, and the 'c' engine does not support such separators; you can avoid this warning by specifying engine='python'.\n",
      "  \n"
     ]
    },
    {
     "name": "stdout",
     "output_type": "stream",
     "text": [
      "                   0                                                  1  \\\n",
      "0    FARAG2022103647  A human factors approach to evaluate predicato...   \n",
      "1     JUNG2022103649  Usability enhancement based on usability heuri...   \n",
      "2  ELPRAMA2022103615  An industrial exoskeleton user acceptance fram...   \n",
      "3   OAKMAN2022103614  Workplace physical and psychosocial hazards: A...   \n",
      "4   TETTEH2022103646  Effects of passive exoskeleton support on EMG ...   \n",
      "\n",
      "                                                   2  \\\n",
      "0           Occupational fatigue= Nurses= Shift-work   \n",
      "1  Usability heuristics= Interface design= User–i...   \n",
      "2  Acceptance= Industrial exoskeletons= Use= Usag...   \n",
      "3  Hazards= Risk assessment= Musculoskeletal diso...   \n",
      "4                    sEMG= Musculoskeletal disorders   \n",
      "\n",
      "                                                   3  \n",
      "0  Nurses function at the point of care and assum...  \n",
      "1  User Interface (UI) design practices often abi...  \n",
      "2  1 Abstract Studying the acceptance of exoskele...  \n",
      "3  Prevention of musculoskeletal disorders (MSDs)...  \n",
      "4  Exoskeletons have shown significant impact at ...  \n",
      "done\n"
     ]
    }
   ],
   "source": [
    "\n",
    "if __name__ == '__main__':\n",
    "    main()"
   ]
  }
 ],
 "metadata": {
  "interpreter": {
   "hash": "23e384c7449f98722cda181c66bc10041f5874c27c5707fa49ddda4f9be885fe"
  },
  "kernelspec": {
   "display_name": "Python 3.7.9 64-bit",
   "language": "python",
   "name": "python3"
  },
  "language_info": {
   "codemirror_mode": {
    "name": "ipython",
    "version": 3
   },
   "file_extension": ".py",
   "mimetype": "text/x-python",
   "name": "python",
   "nbconvert_exporter": "python",
   "pygments_lexer": "ipython3",
   "version": "3.7.9"
  },
  "orig_nbformat": 4
 },
 "nbformat": 4,
 "nbformat_minor": 2
}
