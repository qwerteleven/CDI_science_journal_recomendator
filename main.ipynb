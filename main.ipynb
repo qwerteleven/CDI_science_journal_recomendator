{
 "cells": [
  {
   "cell_type": "code",
   "execution_count": 1,
   "metadata": {},
   "outputs": [],
   "source": [
    "import sklearn\n",
    "import numpy as np\n",
    "import tensorflow as tf\n",
    "import pandas as pd\n",
    "import seaborn as sb"
   ]
  },
  {
   "cell_type": "code",
   "execution_count": 2,
   "metadata": {},
   "outputs": [],
   "source": [
    "def read_parse_data():\n",
    "    data = pd.read_csv('dataset/features.csv', header=None, sep='¡')\n",
    "    return data"
   ]
  },
  {
   "cell_type": "code",
   "execution_count": 85,
   "metadata": {},
   "outputs": [],
   "source": [
    "from sklearn.linear_model import SGDClassifier\n",
    "from sklearn.pipeline import Pipeline\n",
    "from sklearn.feature_extraction.text import TfidfTransformer\n",
    "from sklearn.feature_extraction.text import CountVectorizer\n",
    "\n",
    "def journal_clasificator_SVM(X_train, X_test, y_train, y_test):\n",
    "    text_clf = Pipeline([\n",
    "        ('vect', CountVectorizer()),\n",
    "        ('tfidf', TfidfTransformer()),\n",
    "        ('clf', SGDClassifier(loss='hinge', penalty='l2',\n",
    "                            alpha=1e-3, random_state=42,\n",
    "                            max_iter=5, tol=None)),\n",
    "    ])\n",
    "\n",
    "    text_clf.fit(X_train, y_train)\n",
    "    predicted = text_clf.predict(X_test)\n",
    "    print('mean prediction SVM: ', np.mean(predicted == y_test))\n",
    "\n"
   ]
  },
  {
   "cell_type": "code",
   "execution_count": 23,
   "metadata": {},
   "outputs": [],
   "source": [
    "\n",
    "from sklearn.neural_network import MLPClassifier\n",
    "\n",
    "\n",
    "def journal_clasificator_MLPClassifier(X_train, X_test, y_train, y_test):\n",
    "    text_clf = Pipeline([\n",
    "        ('vect', CountVectorizer()),\n",
    "        ('tfidf', TfidfTransformer()),\n",
    "        ('clf', MLPClassifier(alpha=1, max_iter=1000)),\n",
    "    ])\n",
    "\n",
    "    text_clf.fit(X_train, y_train)\n",
    "    predicted = text_clf.predict(X_test)\n",
    "    print('mean prediction MLPClassifier: ', np.mean(predicted == y_test))"
   ]
  },
  {
   "cell_type": "code",
   "execution_count": 24,
   "metadata": {},
   "outputs": [],
   "source": [
    "\n",
    "from sklearn.neighbors import KNeighborsClassifier\n",
    "\n",
    "\n",
    "def journal_clasificator_KNeighborsClassifier(X_train, X_test, y_train, y_test):\n",
    "    text_clf = Pipeline([\n",
    "        ('vect', CountVectorizer()),\n",
    "        ('tfidf', TfidfTransformer()),\n",
    "        ('clf', KNeighborsClassifier(3)),\n",
    "    ])\n",
    "\n",
    "    text_clf.fit(X_train, y_train)\n",
    "    predicted = text_clf.predict(X_test)\n",
    "    print('mean prediction KNeighborsClassifier: ', np.mean(predicted == y_test))\n"
   ]
  },
  {
   "cell_type": "code",
   "execution_count": 36,
   "metadata": {},
   "outputs": [],
   "source": [
    "from sklearn.svm import SVC\n",
    "    \n",
    "def journal_clasificator_SVC(X_train, X_test, y_train, y_test):\n",
    "    text_clf = Pipeline([\n",
    "        ('vect', CountVectorizer()),\n",
    "        ('tfidf', TfidfTransformer()),\n",
    "        ('clf', SVC(gamma=2, C=1)),\n",
    "    ])\n",
    "\n",
    "    text_clf.fit(X_train, y_train)\n",
    "    predicted = text_clf.predict(X_test)\n",
    "    print('mean prediction SVC: ', np.mean(predicted == y_test))"
   ]
  },
  {
   "cell_type": "code",
   "execution_count": 26,
   "metadata": {},
   "outputs": [],
   "source": [
    "\n",
    "from sklearn.gaussian_process import GaussianProcessClassifier\n",
    "from sklearn.gaussian_process.kernels import RBF\n",
    "\n",
    "\n",
    "def journal_clasificator_GaussianProcessClassifier(X_train, X_test, y_train, y_test):\n",
    "    text_clf = Pipeline([\n",
    "        ('vect', CountVectorizer()),\n",
    "        ('tfidf', TfidfTransformer()),\n",
    "        ('clf', GaussianProcessClassifier(1.0 * RBF(1.0))),\n",
    "    ])\n",
    "\n",
    "    text_clf.fit(X_train, y_train)\n",
    "    predicted = text_clf.predict(X_test)\n",
    "    print('mean prediction GaussianProcessClassifier: ', np.mean(predicted == y_test))"
   ]
  },
  {
   "cell_type": "code",
   "execution_count": 27,
   "metadata": {},
   "outputs": [],
   "source": [
    "\n",
    "from sklearn.tree import DecisionTreeClassifier\n",
    "\n",
    "\n",
    "def journal_clasificator_DecisionTreeClassifier(X_train, X_test, y_train, y_test):\n",
    "    text_clf = Pipeline([\n",
    "        ('vect', CountVectorizer()),\n",
    "        ('tfidf', TfidfTransformer()),\n",
    "        ('clf', DecisionTreeClassifier(max_depth=5)),\n",
    "    ])\n",
    "\n",
    "    text_clf.fit(X_train, y_train)\n",
    "    predicted = text_clf.predict(X_test)\n",
    "    print('mean prediction DecisionTreeClassifier: ', np.mean(predicted == y_test))"
   ]
  },
  {
   "cell_type": "code",
   "execution_count": 28,
   "metadata": {},
   "outputs": [],
   "source": [
    "\n",
    "from sklearn.ensemble import RandomForestClassifier, AdaBoostClassifier\n",
    "\n",
    "\n",
    "def journal_clasificator_RandomForestClassifier(X_train, X_test, y_train, y_test):\n",
    "    text_clf = Pipeline([\n",
    "        ('vect', CountVectorizer()),\n",
    "        ('tfidf', TfidfTransformer()),\n",
    "        ('clf', RandomForestClassifier(max_depth=5, n_estimators=10, max_features=1)),\n",
    "    ])\n",
    "\n",
    "    text_clf.fit(X_train, y_train)\n",
    "    predicted = text_clf.predict(X_test)\n",
    "    print('mean prediction RandomForestClassifier: ', np.mean(predicted == y_test))\n",
    "\n",
    "def journal_clasificator_AdaBoostClassifier(X_train, X_test, y_train, y_test):\n",
    "    text_clf = Pipeline([\n",
    "        ('vect', CountVectorizer()),\n",
    "        ('tfidf', TfidfTransformer()),\n",
    "        ('clf', AdaBoostClassifier()),\n",
    "    ])\n",
    "\n",
    "    text_clf.fit(X_train, y_train)\n",
    "    predicted = text_clf.predict(X_test)\n",
    "    print('mean prediction AdaBoostClassifier: ', np.mean(predicted == y_test))\n",
    "\n"
   ]
  },
  {
   "cell_type": "code",
   "execution_count": 29,
   "metadata": {},
   "outputs": [],
   "source": [
    "\n",
    "from sklearn.naive_bayes import GaussianNB\n",
    "\n",
    "def journal_clasificator_GaussianNB(X_train, X_test, y_train, y_test):\n",
    "    text_clf = Pipeline([\n",
    "        ('vect', CountVectorizer()),\n",
    "        ('tfidf', TfidfTransformer()),\n",
    "        ('clf', GaussianNB()),\n",
    "    ])\n",
    "\n",
    "    text_clf.fit(X_train, y_train)\n",
    "    predicted = text_clf.predict(X_test)\n",
    "    print('mean prediction GaussianNB: ', np.mean(predicted == y_test))"
   ]
  },
  {
   "cell_type": "code",
   "execution_count": 76,
   "metadata": {},
   "outputs": [],
   "source": [
    "\n",
    "from sklearn.discriminant_analysis import QuadraticDiscriminantAnalysis\n",
    "\n",
    "def journal_clasificator_QuadraticDiscriminantAnalysis(X_train, X_test, y_train, y_test):\n",
    "    text_clf = Pipeline([\n",
    "        ('vect', CountVectorizer()),\n",
    "        ('tfidf', TfidfTransformer()),\n",
    "        ('clf', QuadraticDiscriminantAnalysis()),\n",
    "    ])\n",
    "\n",
    "    text_clf.fit(np.array(X_train), np.array(y_train))\n",
    "    predicted = text_clf.predict(X_test)\n",
    "    print('mean prediction QuadraticDiscriminantAnalysis: ', np.mean(predicted == y_test))"
   ]
  },
  {
   "cell_type": "code",
   "execution_count": 31,
   "metadata": {},
   "outputs": [],
   "source": [
    "from sklearn.naive_bayes import MultinomialNB\n",
    "\n",
    "def journal_clasificator_NB(X_train, X_test, y_train, y_test):\n",
    "\n",
    "    text_clf = Pipeline([\n",
    "        ('vect', CountVectorizer()),\n",
    "        ('tfidf', TfidfTransformer()),\n",
    "        ('clf', MultinomialNB()),\n",
    "    ])\n",
    "\n",
    "    text_clf.fit(X_train, y_train)\n",
    "    predicted = text_clf.predict(X_test)\n",
    "    print('mean prediction naive bayes: ', np.mean(predicted == y_test))\n"
   ]
  },
  {
   "cell_type": "code",
   "execution_count": 14,
   "metadata": {},
   "outputs": [],
   "source": [
    "from sklearn import metrics\n",
    "\n",
    "def print_mretics(predicted, test):\n",
    "    print(metrics.classification_report(test.target, predicted, target_names=test.target_names))"
   ]
  },
  {
   "cell_type": "code",
   "execution_count": 83,
   "metadata": {},
   "outputs": [],
   "source": [
    "from sklearn.model_selection import train_test_split\n",
    "\n",
    "def main():\n",
    "    data = read_parse_data()\n",
    "\n",
    "    target = data.iloc[:, 0]\n",
    "    text = data.iloc[:, 1]\n",
    "\n",
    "    X_train, X_test, y_train, y_test = train_test_split(text, target, test_size=0.33, random_state=42) \n",
    "\n",
    "    X_train, X_test, y_train, y_test = np.array(X_train), np.array(X_test), np.array(y_train), np.array(y_test)\n",
    "\n",
    "    journal_clasificator_NB(X_train, X_test, y_train, y_test)\n",
    "    \n",
    "    journal_clasificator_SVM(X_train, X_test, y_train, y_test)\n",
    "\n",
    "    journal_clasificator_SVC(X_train, X_test, y_train, y_test)\n",
    "\n",
    "    # journal_clasificator_QuadraticDiscriminantAnalysis(X_train, X_test, y_train, y_test)\n",
    "\n",
    "    # journal_clasificator_GaussianNB(X_train, X_test, y_train, y_test)\n",
    "\n",
    "    journal_clasificator_AdaBoostClassifier(X_train, X_test, y_train, y_test)\n",
    "\n",
    "    journal_clasificator_RandomForestClassifier(X_train, X_test, y_train, y_test)\n",
    "\n",
    "    journal_clasificator_DecisionTreeClassifier(X_train, X_test, y_train, y_test)\n",
    "\n",
    "    # journal_clasificator_GaussianProcessClassifier(X_train, X_test, y_train, y_test)\n",
    "\n",
    "    journal_clasificator_KNeighborsClassifier(X_train, X_test, y_train, y_test)\n",
    "\n",
    "    journal_clasificator_MLPClassifier(X_train, X_test, y_train, y_test)\n",
    "    \n",
    "    \n",
    "    print(\"done\")\n"
   ]
  },
  {
   "cell_type": "code",
   "execution_count": 86,
   "metadata": {},
   "outputs": [
    {
     "name": "stderr",
     "output_type": "stream",
     "text": [
      "C:\\Users\\admin\\AppData\\Roaming\\Python\\Python37\\site-packages\\ipykernel_launcher.py:2: ParserWarning: Falling back to the 'python' engine because the separator encoded in utf-8 is > 1 char long, and the 'c' engine does not support such separators; you can avoid this warning by specifying engine='python'.\n",
      "  \n"
     ]
    },
    {
     "name": "stdout",
     "output_type": "stream",
     "text": [
      "mean prediction naive bayes:  0.7058823529411765\n",
      "mean prediction SVM:  0.9215686274509803\n",
      "mean prediction SVC:  0.6862745098039216\n",
      "mean prediction AdaBoostClassifier:  0.7450980392156863\n",
      "mean prediction RandomForestClassifier:  0.6862745098039216\n",
      "mean prediction DecisionTreeClassifier:  0.7647058823529411\n",
      "mean prediction KNeighborsClassifier:  0.9411764705882353\n",
      "mean prediction MLPClassifier:  0.8627450980392157\n",
      "done\n"
     ]
    }
   ],
   "source": [
    "\n",
    "if __name__ == '__main__':\n",
    "    main()"
   ]
  }
 ],
 "metadata": {
  "interpreter": {
   "hash": "23e384c7449f98722cda181c66bc10041f5874c27c5707fa49ddda4f9be885fe"
  },
  "kernelspec": {
   "display_name": "Python 3.7.9 64-bit",
   "language": "python",
   "name": "python3"
  },
  "language_info": {
   "codemirror_mode": {
    "name": "ipython",
    "version": 3
   },
   "file_extension": ".py",
   "mimetype": "text/x-python",
   "name": "python",
   "nbconvert_exporter": "python",
   "pygments_lexer": "ipython3",
   "version": "3.7.9"
  },
  "orig_nbformat": 4
 },
 "nbformat": 4,
 "nbformat_minor": 2
}
